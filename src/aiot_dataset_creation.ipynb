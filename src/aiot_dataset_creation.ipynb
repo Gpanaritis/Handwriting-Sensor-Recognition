{
 "cells": [
  {
   "attachments": {},
   "cell_type": "markdown",
   "id": "feb87f6e",
   "metadata": {},
   "source": [
    "## Uploading CSV Data to MongoDB\n",
    "\n",
    "In this project, we will be uploading CSV data to MongoDB. The data is located in the `data` folder. <br>\n",
    "The `data` folder is something like this:\n",
    "\n",
    "```\n",
    ".\n",
    "└── data/\n",
    "    ├── class_A/\n",
    "    │   ├── gyro/\n",
    "    |   |   |── class_A_01.csv\n",
    "    |   |   |── class_A_02.csv\n",
    "    │   ├── accelerometer/\n",
    "    |   |   |── class_A_01.csv\n",
    "    |   |   |── class_A_02.csv\n",
    "    │   └──\n",
    "    ├── class_B/\n",
    "    │   ├── gyro/\n",
    "    |   |   |── class_B_01.csv\n",
    "    |   |   |── class_B_02.csv\n",
    "    │   ├── accelerometer/\n",
    "    |   |   |── class_B_01.csv\n",
    "    |   |   |── class_B_02.csv\n",
    "    └── class ...\n",
    "```\n",
    "\n",
    "To upload this data to MongoDB, we will write a Python script that reads in each CSV file, transforms the data as necessary, and uploads it to the database. We will use the PyMongo library to interact with the database.\n",
    "\n",
    "Here are the high-level steps we will take:\n",
    "\n",
    "1. Iterate through the class folders in the `data` directory.\n",
    "2. For each class folder, iterate through the `gyro` and `accelerometer` subfolders.\n",
    "3. Read in the CSV files using the `csv` library.\n",
    "4. Transform the data as necessary, such as converting timestamps or normalizing values.\n",
    "5. Upload the data to the corresponding MongoDB collection using PyMongo.\n",
    "\n",
    "By following these steps, we will be able to upload all of our CSV data to MongoDB and prepare it for further analysis.\n"
   ]
  },
  {
   "attachments": {},
   "cell_type": "markdown",
   "id": "c1a34708",
   "metadata": {},
   "source": [
    "## Load configuration"
   ]
  },
  {
   "cell_type": "code",
   "execution_count": 5,
   "id": "4e970c28",
   "metadata": {},
   "outputs": [],
   "source": [
    "# import library for yaml handling\n",
    "import yaml\n",
    "import os"
   ]
  },
  {
   "cell_type": "code",
   "execution_count": 6,
   "id": "bbb4f44b",
   "metadata": {},
   "outputs": [],
   "source": [
    "config_path = \"config.yml\"\n",
    "\n",
    "with open(config_path) as file:\n",
    "    config = yaml.load(file, Loader=yaml.FullLoader)"
   ]
  },
  {
   "attachments": {},
   "cell_type": "markdown",
   "id": "65bac888",
   "metadata": {},
   "source": [
    "## MongoDB database instantiation\n",
    "\n",
    "The relevant information for the MongoDB client connection, the database name, and collection name is located in the configuration file.\n",
    "\n",
    "```\n",
    "# DB Connection with the uri (host)\n",
    "client: \"mongodb://localhost:27017/\"\n",
    "\n",
    "# db name\n",
    "db: \"handwriting_classifier\"\n",
    "\n",
    "# db collection\n",
    "col: \"sensor_readings\"\n",
    "```"
   ]
  },
  {
   "cell_type": "code",
   "execution_count": 7,
   "id": "f3cc2add",
   "metadata": {},
   "outputs": [],
   "source": [
    "# import library for hanlding the MongoDB client\n",
    "import pymongo\n",
    "# import library for retrieving datetime\n",
    "from datetime import datetime"
   ]
  },
  {
   "attachments": {},
   "cell_type": "markdown",
   "id": "7dbbbe9f",
   "metadata": {},
   "source": [
    "### Create the database\n",
    "\n",
    "Create a MongoDB database and connect to it."
   ]
  },
  {
   "cell_type": "code",
   "execution_count": 8,
   "id": "bdbb888f",
   "metadata": {},
   "outputs": [],
   "source": [
    "client = pymongo.MongoClient(config[\"client\"])\n",
    "db = client[config[\"db\"]]\n",
    "col = db[config[\"col\"]]"
   ]
  },
  {
   "attachments": {},
   "cell_type": "markdown",
   "id": "2b5cd593",
   "metadata": {},
   "source": [
    "## Create the data collection\n",
    "\n",
    "Uploading the gathered data to MongoDB collection. The data directory structure should be as follows:\n",
    "\n",
    "```\n",
    ".\n",
    "└── data/\n",
    "    ├── α/\n",
    "    │   ├── gyro/\n",
    "    |   |   |── α_01.csv\n",
    "    |   |   |── α_02.csv\n",
    "    │   ├── accelerometer/\n",
    "    |   |   |── α_01.csv\n",
    "    |   |   |── α_02.csv\n",
    "    │   └──\n",
    "    ├── β/\n",
    "    │   ├── gyro/\n",
    "    |   |   |── β_01.csv\n",
    "    |   |   |── β_02.csv\n",
    "    │   ├── accelerometer/\n",
    "    |   |   |── β_01.csv\n",
    "    |   |   |── β_02.csv\n",
    "    └── class ...\n",
    "```"
   ]
  },
  {
   "cell_type": "code",
   "execution_count": 9,
   "id": "622636fd",
   "metadata": {},
   "outputs": [],
   "source": [
    "# import library for hanlding the csv data and transformations\n",
    "import pandas as pd"
   ]
  },
  {
   "attachments": {},
   "cell_type": "markdown",
   "id": "9532ede2",
   "metadata": {},
   "source": [
    "Get data path:"
   ]
  },
  {
   "cell_type": "code",
   "execution_count": 10,
   "id": "912f079f",
   "metadata": {},
   "outputs": [
    {
     "name": "stdout",
     "output_type": "stream",
     "text": [
      "../data\n"
     ]
    }
   ],
   "source": [
    "data_path = \"../data\"\n",
    "print(data_path)"
   ]
  },
  {
   "attachments": {},
   "cell_type": "markdown",
   "id": "a981a220",
   "metadata": {},
   "source": [
    "List all files in a path:"
   ]
  },
  {
   "cell_type": "code",
   "execution_count": 11,
   "id": "fd476759",
   "metadata": {},
   "outputs": [
    {
     "name": "stdout",
     "output_type": "stream",
     "text": [
      "['α', 'β', 'γ', 'δ', 'ε', 'ζ', 'η', 'θ']\n"
     ]
    }
   ],
   "source": [
    "classes_folders_list = [f for f in os.listdir(data_path) if os.path.isdir(os.path.join(data_path, f))]\n",
    "print(classes_folders_list)"
   ]
  },
  {
   "attachments": {},
   "cell_type": "markdown",
   "id": "c65d2961",
   "metadata": {},
   "source": [
    "Each document in the MongoDB database should have the following schema:\n",
    "\n",
    "```json\n",
    "{\n",
    "  \"data\": {\n",
    "    \"acc_x\": [\"array\", \"of\", \"values\"],\n",
    "    \"acc_y\": [\"array\", \"of\", \"values\"],\n",
    "    \"acc_z\": [\"array\", \"of\", \"values\"],\n",
    "    \"gyr_x\": [\"array\", \"of\", \"values\"],\n",
    "    \"gyr_y\": [\"array\", \"of\", \"values\"],\n",
    "    \"gyr_z\": [\"array\", \"of\", \"values\"]\n",
    "  },\n",
    "  \"label\": \"The label of the instance\",\n",
    "  \"datetime\": \"MongoDB datetime object (it can be generated with the datetime.datetime.now() function\"\n",
    "}\n",
    "```"
   ]
  },
  {
   "cell_type": "code",
   "execution_count": 11,
   "id": "4bc16310",
   "metadata": {},
   "outputs": [],
   "source": [
    "from utils import df_rebase"
   ]
  },
  {
   "attachments": {},
   "cell_type": "markdown",
   "id": "115f2ae5",
   "metadata": {},
   "source": [
    "## Upload the data to MongoDB"
   ]
  },
  {
   "cell_type": "code",
   "execution_count": 12,
   "id": "56c8d4e2",
   "metadata": {},
   "outputs": [],
   "source": [
    "for item in classes_folders_list:\n",
    "    gyro_path = data_path + \"/\" + item + \"/gyro\"\n",
    "    accel_path = data_path + \"/\" + item + \"/accel\"\n",
    "    \n",
    "    gyro_files = [f for f in os.listdir(gyro_path) if os.path.isfile(os.path.join(gyro_path, f))]\n",
    "    accel_files = [f for f in os.listdir(accel_path) if os.path.isfile(os.path.join(accel_path, f))]\n",
    "\n",
    "\n",
    "    for gyro_file, accel_file in zip(gyro_files, accel_files):\n",
    "        gyro_df = pd.read_csv(gyro_path + \"/\" + gyro_file)\n",
    "        accel_df = pd.read_csv(accel_path + \"/\" + accel_file)\n",
    "        \n",
    "        final_df = df_rebase(accel_df,gyro_df, config[\"order\"], config[\"rename\"])\n",
    "\n",
    "        data_dict = final_df.to_dict('list')\n",
    "        data_dict = {k: v for k, v in data_dict.items()}\n",
    "\n",
    "        doc = {\n",
    "            'data': data_dict,\n",
    "            'label': item,\n",
    "            'datetime': gyro_df['time (03:00)'][0].replace(\"T\", \" \")\n",
    "        }\n",
    "\n",
    "\n",
    "        # insert data to MongoDB\n",
    "        col.insert_one(doc)"
   ]
  }
 ],
 "metadata": {
  "kernelspec": {
   "display_name": "Python 3 (ipykernel)",
   "language": "python",
   "name": "python3"
  },
  "language_info": {
   "codemirror_mode": {
    "name": "ipython",
    "version": 3
   },
   "file_extension": ".py",
   "mimetype": "text/x-python",
   "name": "python",
   "nbconvert_exporter": "python",
   "pygments_lexer": "ipython3",
   "version": "3.9.6"
  }
 },
 "nbformat": 4,
 "nbformat_minor": 5
}
