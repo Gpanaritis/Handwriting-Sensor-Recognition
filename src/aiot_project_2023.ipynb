{
 "cells": [
  {
   "attachments": {},
   "cell_type": "markdown",
   "id": "0733b351",
   "metadata": {},
   "source": [
    "# AIoT Project 2023"
   ]
  },
  {
   "cell_type": "code",
   "execution_count": 105,
   "id": "4455947d",
   "metadata": {},
   "outputs": [
    {
     "name": "stdout",
     "output_type": "stream",
     "text": [
      "The autoreload extension is already loaded. To reload it, use:\n",
      "  %reload_ext autoreload\n"
     ]
    }
   ],
   "source": [
    "import os\n",
    "\n",
    "# basic data engineering\n",
    "import pandas as pd\n",
    "import numpy as np\n",
    "import scipy\n",
    "\n",
    "# plotting\n",
    "import matplotlib.pyplot as plt\n",
    "# import seaborn as sns\n",
    "\n",
    "# db\n",
    "import pymongo\n",
    "\n",
    "# configs & other\n",
    "import yaml\n",
    "# from tqdm.notebook import tqdm_notebook\n",
    "from datetime import datetime\n",
    "from time import time\n",
    "\n",
    "# from psynlig import pca_explained_variance_bar\n",
    "\n",
    "# utils processing\n",
    "from utils import sliding_window_pd\n",
    "from utils import apply_filter\n",
    "from utils import filter_instances\n",
    "from utils import flatten_instances_df\n",
    "from utils import df_rebase\n",
    "from utils import rename_df_column_values\n",
    "\n",
    "# utils visualization\n",
    "from utils_visual import plot_instance_time_domain\n",
    "from utils_visual import plot_instance_3d\n",
    "from utils_visual import plot_np_instance\n",
    "from utils_visual import plot_heatmap\n",
    "from utils_visual import plot_scatter_pca\n",
    "\n",
    "%load_ext autoreload\n",
    "%autoreload 2"
   ]
  },
  {
   "attachments": {},
   "cell_type": "markdown",
   "id": "07adb678",
   "metadata": {},
   "source": [
    "Start time of execution"
   ]
  },
  {
   "cell_type": "code",
   "execution_count": 106,
   "id": "717559c4",
   "metadata": {},
   "outputs": [],
   "source": [
    "time_start = time()"
   ]
  },
  {
   "attachments": {},
   "cell_type": "markdown",
   "id": "34b96e6f",
   "metadata": {},
   "source": [
    "## Load configuration"
   ]
  },
  {
   "cell_type": "code",
   "execution_count": 107,
   "id": "982eac13",
   "metadata": {},
   "outputs": [],
   "source": [
    "config_path = \"config.yml\"\n",
    "\n",
    "with open(config_path) as file:\n",
    "    config = yaml.load(file, Loader=yaml.FullLoader)"
   ]
  },
  {
   "cell_type": "code",
   "execution_count": 108,
   "id": "bfce0bca",
   "metadata": {},
   "outputs": [],
   "source": [
    "client = pymongo.MongoClient(config[\"client\"])"
   ]
  },
  {
   "cell_type": "code",
   "execution_count": 109,
   "id": "dc950bbb",
   "metadata": {},
   "outputs": [],
   "source": [
    "db = client[config[\"db\"]]\n",
    "coll = db[config[\"col\"]]"
   ]
  },
  {
   "cell_type": "code",
   "execution_count": 110,
   "id": "2221ec1a",
   "metadata": {},
   "outputs": [
    {
     "name": "stdout",
     "output_type": "stream",
     "text": [
      "Existing DB keys: ['α', 'β', 'γ', 'δ']\n"
     ]
    }
   ],
   "source": [
    "found_keys = coll.distinct(\"label\")\n",
    "print(\"Existing DB keys:\", found_keys)"
   ]
  },
  {
   "cell_type": "code",
   "execution_count": 111,
   "id": "ac610058",
   "metadata": {},
   "outputs": [
    {
     "name": "stdout",
     "output_type": "stream",
     "text": [
      "_id                                  64711a452b40615a54bba987\n",
      "data        {'acc_x': [0.136, 0.13, 0.121, 0.135, 0.145, 0...\n",
      "label                                                       α\n",
      "datetime                              2023-05-17 20:44:55.691\n",
      "Name: 0, dtype: object\n"
     ]
    }
   ],
   "source": [
    "data = list(coll.find({}, {'label': 1, 'data': 1, 'datetime': 1}))\n",
    "df = pd.DataFrame(data)\n",
    "print(df.iloc[0])"
   ]
  },
  {
   "attachments": {},
   "cell_type": "markdown",
   "id": "9b28daa8",
   "metadata": {},
   "source": [
    "## Barplot (Mean Length of data per Label)"
   ]
  },
  {
   "cell_type": "code",
   "execution_count": 112,
   "id": "42924b08",
   "metadata": {},
   "outputs": [
    {
     "data": {
      "image/png": "[encoded data removed]",
      "text/plain": [
       "<Figure size 640x480 with 1 Axes>"
      ]
     },
     "metadata": {},
     "output_type": "display_data"
    }
   ],
   "source": [
    "# distinct labels\n",
    "labels = df[\"label\"].unique() # type: ignore\n",
    "# get data length for each label\n",
    "label_mean_lengths = df.groupby('label')['data'].apply(lambda x: x.apply(lambda arr: len(arr['acc_x'])).mean())\n",
    "\n",
    "# Create a bar plot\n",
    "plt.bar(label_mean_lengths.index, label_mean_lengths.values) # type: ignore\n",
    "\n",
    "# Set labels and title\n",
    "plt.xlabel('Label')\n",
    "plt.ylabel(\"Mean Length of data\")\n",
    "plt.title(\"Mean Length of data per Label\")\n",
    "\n",
    "# Rotate x-axis labels if needed\n",
    "plt.xticks(rotation=45)\n",
    "\n",
    "# Display the plot\n",
    "plt.show()"
   ]
  },
  {
   "attachments": {},
   "cell_type": "markdown",
   "id": "919d8684",
   "metadata": {},
   "source": [
    "## Windows"
   ]
  },
  {
   "cell_type": "code",
   "execution_count": 113,
   "id": "36ee6cf4",
   "metadata": {},
   "outputs": [
    {
     "name": "stdout",
     "output_type": "stream",
     "text": [
      "30 15 hann True\n",
      "30 15 hann True\n",
      "30 15 hann True\n",
      "30 15 hann True\n",
      "30 15 hann True\n",
      "30 15 hann True\n",
      "30 15 hann True\n"
     ]
    }
   ],
   "source": [
    "sl  = config[\"sliding_window\"]\n",
    "w = []\n",
    "\n",
    "for x in df[\"data\"]:\n",
    "    df_x = pd.DataFrame(x) # type: ignore\n",
    "    windows = sliding_window_pd(df_x, ws= sl[\"ws\"], overlap= sl[\"overlap\"], w_type= sl[\"w_type\"], w_center= sl[\"w_center\"], print_stats= sl[\"print_stats\"])\n",
    "    w.append(pd.Series(windows))\n",
    "\n",
    "df[\"windows\"] = w"
   ]
  },
  {
   "attachments": {},
   "cell_type": "markdown",
   "id": "03837ae7",
   "metadata": {},
   "source": [
    "## Barlpot of the number of windows per label"
   ]
  },
  {
   "cell_type": "code",
   "execution_count": 114,
   "id": "9dd4b6ff",
   "metadata": {},
   "outputs": [
    {
     "data": {
      "image/png": "[encoded data removed]",
      "text/plain": [
       "<Figure size 640x480 with 1 Axes>"
      ]
     },
     "metadata": {},
     "output_type": "display_data"
    }
   ],
   "source": [
    "# distinct labels\n",
    "labels = df[\"label\"].unique() # type: ignore\n",
    "# get data length for each label\n",
    "windows_mean_lengths = df.groupby('label')['windows'].apply(lambda x: x.apply(lambda arr: len(arr)).mean())\n",
    "\n",
    "# Create a bar plot\n",
    "plt.bar(windows_mean_lengths.index, windows_mean_lengths.values) # type: ignore\n",
    "\n",
    "# Set labels and title\n",
    "plt.xlabel('Label')\n",
    "plt.ylabel(\"Mean Number of Windows\")\n",
    "plt.title(\"Mean Number of Windows per Label\")\n",
    "\n",
    "# Rotate x-axis labels if needed\n",
    "plt.xticks(rotation=45)\n",
    "\n",
    "# Display the plot\n",
    "plt.show()"
   ]
  },
  {
   "attachments": {},
   "cell_type": "markdown",
   "id": "0c2b7f9c",
   "metadata": {},
   "source": [
    "## Apply filter"
   ]
  },
  {
   "cell_type": "code",
   "execution_count": 115,
   "id": "f73e077d",
   "metadata": {},
   "outputs": [],
   "source": [
    "# Apply a low filter to the data\n",
    "df_filtered = df.copy()\n",
    "\n",
    "for i,x in enumerate(df[\"windows\"]):\n",
    "    for j,y in enumerate(x): # type: ignore\n",
    "        for k in y:\n",
    "            df_filtered[\"windows\"][i][j][k] = apply_filter(y[k])"
   ]
  },
  {
   "cell_type": "code",
   "execution_count": 116,
   "id": "ec986db6",
   "metadata": {},
   "outputs": [
    {
     "name": "stdout",
     "output_type": "stream",
     "text": [
      "Number of filtered instances in the list: 7\n"
     ]
    }
   ],
   "source": [
    "# get list from df[\"windows\"]\n",
    "windows = df[\"windows\"].tolist() # type: ignore\n",
    "# ilter_instances(instances_list, order, wn, filter_type)\n",
    "filtered_windows = filter_instances(windows, order= config[\"filter\"][\"order\"], wn= config[\"filter\"][\"wn\"], filter_type= config[\"filter\"][\"type\"])\n",
    "# print(\"windows:\", type(windows), len(windows))"
   ]
  },
  {
   "attachments": {},
   "cell_type": "markdown",
   "id": "174424cd",
   "metadata": {},
   "source": [
    "## Transform the list of DataFrames to NumPy array\n",
    "\n",
    "Transform the list of DataFrames to NumPy array that contains the windows: (instances, x, y)"
   ]
  },
  {
   "cell_type": "code",
   "execution_count": 117,
   "id": "741fe8b6",
   "metadata": {},
   "outputs": [],
   "source": [
    "# np_filtered_windows = []\n",
    "\n",
    "# for x in filtered_windows:\n",
    "#     np_filtered_windows.append(np.array(x))\n",
    "\n",
    "# print(len(np_filtered_windows))\n",
    "# np_filtered_windows = np.array(np_filtered_windows)\n",
    "# print(np_filtered_windows[0][0].shape)\n",
    "new_df = flatten_instances_df(filtered_windows)\n",
    "# print(new_df[0][0])"
   ]
  },
  {
   "attachments": {},
   "cell_type": "markdown",
   "id": "9587c7d9",
   "metadata": {},
   "source": [
    "## Flatten the 2D window instances\n",
    "\n",
    "Flatten the X NumPy array that contains the 2D window instances"
   ]
  },
  {
   "cell_type": "code",
   "execution_count": 118,
   "id": "c49d38ed",
   "metadata": {},
   "outputs": [
    {
     "name": "stdout",
     "output_type": "stream",
     "text": [
      "(7, 8, 180)\n",
      "(7,)\n"
     ]
    }
   ],
   "source": [
    "X = np.array(new_df)\n",
    "\n",
    "# # Fill None values with 0\n",
    "for i,x in enumerate(X):\n",
    "    for j,y in enumerate(x):\n",
    "        if y is None:\n",
    "            X[i][j] = np.zeros(X[i][j-1].shape)\n",
    "            # print(X[i][j].shape)\n",
    "\n",
    "# print(X[0])\n",
    "\n",
    "# print(X[0][0].shape)\n",
    "# flattened_X = np.concatenate([x.flatten() for x in X], axis=0).reshape(2, -1)\n",
    "# Flatten every instance inside X array\n",
    "flattened_X = np.array([np.array([x.flatten() for x in row]) for row in X])\n",
    "print(flattened_X.shape)\n",
    "# flattened_X = np.array([x.flatten() for row in X for x in row if x is not None])\n",
    "# flattened_X = np.array([x.flatten() for row in X for x in row if x is not None])\n",
    "# print(flattened_X[0].shape)\n",
    "# print(X[0][0].flatten().shape)\n",
    "# print(X.shape)\n",
    "y = np.array(df[\"label\"].tolist()) # type: ignore\n",
    "# turn labels into numbers\n",
    "y = pd.factorize(y)[0]\n",
    "print(y.shape)\n",
    "# print(flattened_X[0][0].shape)"
   ]
  },
  {
   "attachments": {},
   "cell_type": "markdown",
   "id": "41620e98",
   "metadata": {},
   "source": [
    "## Train/Test split"
   ]
  },
  {
   "cell_type": "code",
   "execution_count": 119,
   "id": "1d592023",
   "metadata": {},
   "outputs": [],
   "source": [
    "from sklearn.model_selection import train_test_split"
   ]
  },
  {
   "cell_type": "code",
   "execution_count": 120,
   "id": "b2b23d31",
   "metadata": {},
   "outputs": [],
   "source": [
    "X_train, X_test, y_train, y_test = train_test_split(flattened_X, y, test_size=0.20, shuffle=True, random_state=42)"
   ]
  },
  {
   "cell_type": "code",
   "execution_count": null,
   "id": "116e80a5",
   "metadata": {},
   "outputs": [],
   "source": []
  },
  {
   "attachments": {},
   "cell_type": "markdown",
   "id": "a3b6aded",
   "metadata": {},
   "source": [
    "## Scaling"
   ]
  },
  {
   "cell_type": "code",
   "execution_count": 123,
   "id": "b12737cf",
   "metadata": {},
   "outputs": [],
   "source": [
    "from sklearn.preprocessing import StandardScaler, MinMaxScaler"
   ]
  },
  {
   "cell_type": "code",
   "execution_count": 124,
   "id": "7d3d85a8",
   "metadata": {},
   "outputs": [
    {
     "name": "stdout",
     "output_type": "stream",
     "text": [
      "(5, 8, 180)\n",
      "(2, 8, 180)\n"
     ]
    }
   ],
   "source": [
    "# Standard scaler for X\n",
    "scaler = StandardScaler()\n",
    "X_train = np.array([scaler.fit_transform(x) for x in X_train])\n",
    "X_test = np.array([scaler.fit_transform(x) for x in X_test])\n",
    "\n",
    "\n",
    "print(X_train.shape)\n",
    "print(X_test.shape)"
   ]
  },
  {
   "attachments": {},
   "cell_type": "markdown",
   "id": "bb41accf",
   "metadata": {},
   "source": [
    "## Transform to 2D again"
   ]
  },
  {
   "cell_type": "code",
   "execution_count": null,
   "id": "4f05b274",
   "metadata": {},
   "outputs": [],
   "source": []
  },
  {
   "attachments": {},
   "cell_type": "markdown",
   "id": "24207b2c",
   "metadata": {},
   "source": [
    "## Dimensionality Reduction with PCA using the 1D (flattened) data"
   ]
  },
  {
   "cell_type": "code",
   "execution_count": 125,
   "id": "c0c8c60a",
   "metadata": {},
   "outputs": [],
   "source": [
    "# add transformers\n",
    "from sklearn.decomposition import PCA"
   ]
  },
  {
   "cell_type": "code",
   "execution_count": 139,
   "id": "754f3a1b",
   "metadata": {},
   "outputs": [
    {
     "data": {
      "image/png": "[encoded data removed]",
      "text/plain": [
       "<Figure size 640x480 with 1 Axes>"
      ]
     },
     "metadata": {},
     "output_type": "display_data"
    }
   ],
   "source": [
    "# PCA with 1 component\n",
    "pca = PCA(n_components=1)\n",
    "\n",
    "# Transform data and plot\n",
    "fig, ax = plt.subplots()\n",
    "transformed_data = []\n",
    "for i, x in enumerate(flattened_X):\n",
    "    transformed_x = pca.fit_transform(x)\n",
    "    transformed_data.append(transformed_x[0])\n",
    "\n",
    "colors = {0: \"red\", 1: \"blue\", 2: \"green\", 3: \"yellow\", 4: \"orange\", 5: \"purple\", 6: \"pink\", 7: \"brown\", 8: \"black\", 9: \"gray\"}\n",
    "\n",
    "for i,x in enumerate(transformed_data):\n",
    "    # show in a line\n",
    "    ax.scatter(i, x, alpha=0.5, label=\"PCA\", color=colors[y[i]])\n",
    "\n",
    "# ax.scatter(range(len(transformed_data)), transformed_data, alpha=0.5, label=\"PCA\", color=)\n",
    "# ax.set_xlabel(\"Index\")\n",
    "# ax.set_ylabel(\"Transformed Data\")\n",
    "# plt.show()\n"
   ]
  },
  {
   "attachments": {},
   "cell_type": "markdown",
   "id": "8dd95258",
   "metadata": {},
   "source": [
    "### PCA with 2 Components"
   ]
  },
  {
   "cell_type": "code",
   "execution_count": null,
   "id": "4d8c1252",
   "metadata": {},
   "outputs": [],
   "source": [
    "pca2d.fit(data)"
   ]
  },
  {
   "cell_type": "code",
   "execution_count": null,
   "id": "1fd25884",
   "metadata": {},
   "outputs": [],
   "source": []
  },
  {
   "cell_type": "code",
   "execution_count": null,
   "id": "1bc0ea67",
   "metadata": {
    "scrolled": false
   },
   "outputs": [],
   "source": [
    "pca_explained_variance_bar(pca_object, alpha=0.8)"
   ]
  },
  {
   "cell_type": "code",
   "execution_count": null,
   "id": "ee7b3f0f",
   "metadata": {},
   "outputs": [],
   "source": []
  },
  {
   "cell_type": "code",
   "execution_count": null,
   "id": "54395c7d",
   "metadata": {},
   "outputs": [],
   "source": [
    "plot_heatmap(df=DATAFRAME)"
   ]
  },
  {
   "attachments": {},
   "cell_type": "markdown",
   "id": "91e107a4",
   "metadata": {},
   "source": [
    "### PCA with 3 Components"
   ]
  },
  {
   "cell_type": "code",
   "execution_count": null,
   "id": "2f59fb62",
   "metadata": {},
   "outputs": [],
   "source": []
  },
  {
   "attachments": {},
   "cell_type": "markdown",
   "id": "87e8d62f",
   "metadata": {},
   "source": [
    "### PCA with X% of the variance of the dataset, for training the statistical AI Models"
   ]
  },
  {
   "cell_type": "code",
   "execution_count": null,
   "id": "743bcd58",
   "metadata": {},
   "outputs": [],
   "source": []
  },
  {
   "attachments": {},
   "cell_type": "markdown",
   "id": "de03fd48",
   "metadata": {},
   "source": [
    "## Classifier - Statistical Learning"
   ]
  },
  {
   "attachments": {},
   "cell_type": "markdown",
   "id": "789ce0a8",
   "metadata": {},
   "source": [
    "### Apply simple classifier"
   ]
  },
  {
   "cell_type": "code",
   "execution_count": null,
   "id": "8846c809",
   "metadata": {},
   "outputs": [],
   "source": [
    "from sklearn.svm import SVC\n",
    "from sklearn.ensemble import RandomForestClassifier"
   ]
  },
  {
   "cell_type": "code",
   "execution_count": null,
   "id": "c599deb1",
   "metadata": {},
   "outputs": [],
   "source": []
  },
  {
   "attachments": {},
   "cell_type": "markdown",
   "id": "e2b4b498",
   "metadata": {},
   "source": [
    "### Evaluate simple classifier"
   ]
  },
  {
   "cell_type": "code",
   "execution_count": null,
   "id": "ce02a18e",
   "metadata": {},
   "outputs": [],
   "source": [
    "from sklearn.metrics import confusion_matrix, ConfusionMatrixDisplay"
   ]
  },
  {
   "cell_type": "code",
   "execution_count": null,
   "id": "11536a59",
   "metadata": {},
   "outputs": [],
   "source": [
    "from sklearn.metrics import classification_report"
   ]
  },
  {
   "cell_type": "code",
   "execution_count": null,
   "id": "adab0576",
   "metadata": {},
   "outputs": [],
   "source": []
  },
  {
   "attachments": {},
   "cell_type": "markdown",
   "id": "ee969415",
   "metadata": {},
   "source": [
    "### Apply optimization with Grid Search and Cross-validation"
   ]
  },
  {
   "cell_type": "code",
   "execution_count": null,
   "id": "e9a3c651",
   "metadata": {},
   "outputs": [],
   "source": [
    "from sklearn.svm import SVC\n",
    "from sklearn.model_selection import GridSearchCV"
   ]
  },
  {
   "cell_type": "code",
   "execution_count": null,
   "id": "ba17bf58",
   "metadata": {},
   "outputs": [],
   "source": []
  },
  {
   "attachments": {},
   "cell_type": "markdown",
   "id": "0b1db5c5",
   "metadata": {},
   "source": [
    "### Evaluate optimized classifier"
   ]
  },
  {
   "cell_type": "code",
   "execution_count": null,
   "id": "9e11ff71",
   "metadata": {},
   "outputs": [],
   "source": []
  },
  {
   "attachments": {},
   "cell_type": "markdown",
   "id": "95ada6c9",
   "metadata": {},
   "source": [
    "## Classifier - Neural Network"
   ]
  },
  {
   "cell_type": "code",
   "execution_count": null,
   "id": "63cd8abe",
   "metadata": {},
   "outputs": [],
   "source": [
    "import tensorflow as tf\n",
    "from tensorflow.keras import Sequential\n",
    "from tensorflow.keras.layers import Conv1D, MaxPooling1D, Dense, Dropout, Flatten"
   ]
  },
  {
   "cell_type": "code",
   "execution_count": null,
   "id": "983c3269",
   "metadata": {},
   "outputs": [],
   "source": [
    "input_data_shape = X_train_2d[0].shape\n",
    "print(\"Type of the input shape object:\", type(input_data_shape))\n",
    "X_train_2d[0].shape"
   ]
  },
  {
   "cell_type": "code",
   "execution_count": null,
   "id": "44bb9bab",
   "metadata": {},
   "outputs": [],
   "source": [
    "y_np_array = np.array(y)\n",
    "n_outputs = len(np.unique(y_np_array))\n",
    "print(\"Number of outputs (classes) the model to predict:\", n_outputs)"
   ]
  },
  {
   "attachments": {},
   "cell_type": "markdown",
   "id": "85b5be53",
   "metadata": {},
   "source": [
    "### Create the Neural Network (NN) Architecture and instantiate the model"
   ]
  },
  {
   "cell_type": "code",
   "execution_count": null,
   "id": "d2ca897e",
   "metadata": {},
   "outputs": [],
   "source": [
    "model = Sequential()\n",
    "\n",
    "\"\"\"\n",
    "BUILD YOUR MODEL ARCHITECTURE HERE\n",
    "\"\"\"\n",
    "\n",
    "model.add(Dense(n_outputs, activation=\"softmax\"))"
   ]
  },
  {
   "attachments": {},
   "cell_type": "markdown",
   "id": "5d086695",
   "metadata": {},
   "source": [
    "Plot the Architecture of ot the TensorFlow model"
   ]
  },
  {
   "cell_type": "code",
   "execution_count": null,
   "id": "ce534b3e",
   "metadata": {},
   "outputs": [],
   "source": []
  },
  {
   "attachments": {},
   "cell_type": "markdown",
   "id": "cbb3c78a",
   "metadata": {},
   "source": [
    "Plot the summary of the TensorFlow model"
   ]
  },
  {
   "cell_type": "code",
   "execution_count": null,
   "id": "10a1370a",
   "metadata": {},
   "outputs": [],
   "source": []
  },
  {
   "attachments": {},
   "cell_type": "markdown",
   "id": "5ffb0f58",
   "metadata": {},
   "source": [
    "### Build the NN model"
   ]
  },
  {
   "cell_type": "code",
   "execution_count": null,
   "id": "62ec9310",
   "metadata": {},
   "outputs": [],
   "source": [
    "model.compile(loss=\"sparse_categorical_crossentropy\", optimizer=\"adam\", metrics=[\"ADD METRIC\"])"
   ]
  },
  {
   "cell_type": "code",
   "execution_count": null,
   "id": "31a646d6",
   "metadata": {},
   "outputs": [],
   "source": [
    "from utils import encode_labels"
   ]
  },
  {
   "cell_type": "code",
   "execution_count": null,
   "id": "7f39477f",
   "metadata": {},
   "outputs": [],
   "source": []
  },
  {
   "attachments": {},
   "cell_type": "markdown",
   "id": "105b799d",
   "metadata": {},
   "source": [
    "### Train the NN model"
   ]
  },
  {
   "cell_type": "code",
   "execution_count": null,
   "id": "595a3664",
   "metadata": {},
   "outputs": [],
   "source": []
  },
  {
   "attachments": {},
   "cell_type": "markdown",
   "id": "ee61e2f4",
   "metadata": {},
   "source": [
    "### Evaluate the model on the test data"
   ]
  },
  {
   "cell_type": "code",
   "execution_count": null,
   "id": "ddec8b5b",
   "metadata": {},
   "outputs": [],
   "source": []
  },
  {
   "attachments": {},
   "cell_type": "markdown",
   "id": "46cf5b35",
   "metadata": {},
   "source": [
    "### Plot and interpret the learning curves: Loss and Accuracy based on the training and validation sets"
   ]
  },
  {
   "cell_type": "code",
   "execution_count": null,
   "id": "df775152",
   "metadata": {},
   "outputs": [],
   "source": []
  },
  {
   "cell_type": "code",
   "execution_count": null,
   "id": "a0e06c98",
   "metadata": {},
   "outputs": [],
   "source": []
  }
 ],
 "metadata": {
  "kernelspec": {
   "display_name": "Python 3 (ipykernel)",
   "language": "python",
   "name": "python3"
  },
  "language_info": {
   "codemirror_mode": {
    "name": "ipython",
    "version": 3
   },
   "file_extension": ".py",
   "mimetype": "text/x-python",
   "name": "python",
   "nbconvert_exporter": "python",
   "pygments_lexer": "ipython3",
   "version": "3.11.3"
  }
 },
 "nbformat": 4,
 "nbformat_minor": 5
}
